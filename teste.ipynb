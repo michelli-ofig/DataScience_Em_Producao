{
 "cells": [
  {
   "cell_type": "code",
   "execution_count": 1,
   "id": "sweet-democrat",
   "metadata": {},
   "outputs": [],
   "source": [
    "teste = 'Michelli'"
   ]
  },
  {
   "cell_type": "code",
   "execution_count": 2,
   "id": "fuzzy-indianapolis",
   "metadata": {},
   "outputs": [
    {
     "data": {
      "text/plain": [
       "'Michelli'"
      ]
     },
     "execution_count": 2,
     "metadata": {},
     "output_type": "execute_result"
    }
   ],
   "source": [
    "teste"
   ]
  },
  {
   "cell_type": "code",
   "execution_count": 4,
   "id": "disciplinary-final",
   "metadata": {},
   "outputs": [],
   "source": [
    "teste2 = 'Figueiredp'"
   ]
  },
  {
   "cell_type": "code",
   "execution_count": null,
   "id": "verbal-turkey",
   "metadata": {},
   "outputs": [],
   "source": []
  }
 ],
 "metadata": {
  "kernelspec": {
   "display_name": "Python 3",
   "language": "python",
   "name": "python3"
  },
  "language_info": {
   "codemirror_mode": {
    "name": "ipython",
    "version": 3
   },
   "file_extension": ".py",
   "mimetype": "text/x-python",
   "name": "python",
   "nbconvert_exporter": "python",
   "pygments_lexer": "ipython3",
   "version": "3.7.9"
  }
 },
 "nbformat": 4,
 "nbformat_minor": 5
}
