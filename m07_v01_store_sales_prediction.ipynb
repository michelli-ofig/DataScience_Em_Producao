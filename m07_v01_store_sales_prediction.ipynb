{
  "nbformat": 4,
  "nbformat_minor": 0,
  "metadata": {
    "colab": {
      "name": "m07_v01_store_sales_prediction.ipynb",
      "provenance": [],
      "collapsed_sections": [
        "_NlX-1rUN7Km",
        "svK4ZsjIN7Ky",
        "r3U8GDQRN7K1",
        "UsfVcUPVN7K2",
        "qcnXYw-GN7LE",
        "e_YTy9aCN7LI",
        "k7uq39dvN7LK",
        "VmoEIJJNN7LM",
        "R4_lPj91N7LP",
        "NtEeIADcN7LR",
        "WhL2HT9eN7LR",
        "PGJgx5NYN7LS",
        "lWOyv2yON7LU",
        "JjAWfHOpN7LV",
        "2kFqxxmGN7LW",
        "PTlxD8HGN7Lg",
        "u-LDQGmXN7Lk",
        "XxCtXmVdN7Ll",
        "NPj9iuCoN7Ln",
        "EMyI2xadN7Lo",
        "HUxxiWAWN7Lp",
        "HPbRUUw7N7Lq",
        "NpubcoDWN7Lr",
        "LZsYSzprN7Lt",
        "HUXslMqLN7Lu",
        "oAizGS5LN7Lw",
        "oikwj_z3N7Lz",
        "8getWtXvN7L0",
        "qhtEKujyN7L2",
        "80mTPZu7N7L3",
        "3g9bpMyiN7L5",
        "xUf2-AaRN7L6",
        "D-hv7rU5N7L8",
        "USvReGtFN7L8",
        "9gbt8Q9xN7L9",
        "aIrZ3UGCN7L-",
        "pMbQ2uHoN7MA",
        "cx_lsh-HN7MC",
        "RmygMHLyZ05q"
      ],
      "toc_visible": true,
      "include_colab_link": true
    },
    "kernelspec": {
      "display_name": "Python 3",
      "language": "python",
      "name": "python3"
    },
    "language_info": {
      "codemirror_mode": {
        "name": "ipython",
        "version": 3
      },
      "file_extension": ".py",
      "mimetype": "text/x-python",
      "name": "python",
      "nbconvert_exporter": "python",
      "pygments_lexer": "ipython3",
      "version": "3.7.9"
    }
  },
  "cells": [
    {
      "cell_type": "markdown",
      "metadata": {
        "id": "view-in-github",
        "colab_type": "text"
      },
      "source": [
        "<a href=\"https://colab.research.google.com/github/michelli-ofig/DataScience_Em_Producao/blob/main/m07_v01_store_sales_prediction.ipynb\" target=\"_parent\"><img src=\"https://colab.research.google.com/assets/colab-badge.svg\" alt=\"Open In Colab\"/></a>"
      ]
    },
    {
      "cell_type": "markdown",
      "metadata": {
        "id": "7CzUvAr0N7KE"
      },
      "source": [
        "# 0.0. Imports"
      ]
    },
    {
      "cell_type": "code",
      "metadata": {
        "colab": {
          "base_uri": "https://localhost:8080/"
        },
        "id": "OAZJcMhgN7KU",
        "outputId": "c8c45b73-f812-43f8-c82c-6184d5ae034c"
      },
      "source": [
        "from platform import python_version\n",
        "print('Versão da Linguagem Python Usada Neste Jupyter Notebook:', python_version())"
      ],
      "execution_count": 105,
      "outputs": [
        {
          "output_type": "stream",
          "text": [
            "Versão da Linguagem Python Usada Neste Jupyter Notebook: 3.7.10\n"
          ],
          "name": "stdout"
        }
      ]
    },
    {
      "cell_type": "code",
      "metadata": {
        "id": "ZiFPME-aN7KZ"
      },
      "source": [
        "import matplotlib.pyplot as plt\n",
        "%matplotlib inline  "
      ],
      "execution_count": 106,
      "outputs": []
    },
    {
      "cell_type": "code",
      "metadata": {
        "colab": {
          "base_uri": "https://localhost:8080/"
        },
        "id": "qRNAX1IzIhLk",
        "outputId": "7518ee18-dcdc-4ee9-f31b-2f23ec2f2086"
      },
      "source": [
        "!pip install tabulate"
      ],
      "execution_count": 107,
      "outputs": [
        {
          "output_type": "stream",
          "text": [
            "Requirement already satisfied: tabulate in /usr/local/lib/python3.7/dist-packages (0.8.9)\n"
          ],
          "name": "stdout"
        }
      ]
    },
    {
      "cell_type": "code",
      "metadata": {
        "colab": {
          "base_uri": "https://localhost:8080/"
        },
        "id": "Dbvn_Ea9PPJW",
        "outputId": "b3df2aaf-2200-4a5a-c347-15c6dd17b7cd"
      },
      "source": [
        "!pip install inflection"
      ],
      "execution_count": 108,
      "outputs": [
        {
          "output_type": "stream",
          "text": [
            "Requirement already satisfied: inflection in /usr/local/lib/python3.7/dist-packages (0.5.1)\n"
          ],
          "name": "stdout"
        }
      ]
    },
    {
      "cell_type": "code",
      "metadata": {
        "colab": {
          "base_uri": "https://localhost:8080/"
        },
        "id": "KHv29V7ahnkI",
        "outputId": "3c82b7bb-53bd-471a-e750-8e5db47ceb2b"
      },
      "source": [
        "!pip install boruta"
      ],
      "execution_count": 109,
      "outputs": [
        {
          "output_type": "stream",
          "text": [
            "Requirement already satisfied: boruta in /usr/local/lib/python3.7/dist-packages (0.3)\n",
            "Requirement already satisfied: scipy>=0.17.0 in /usr/local/lib/python3.7/dist-packages (from boruta) (1.4.1)\n",
            "Requirement already satisfied: scikit-learn>=0.17.1 in /usr/local/lib/python3.7/dist-packages (from boruta) (0.22.2.post1)\n",
            "Requirement already satisfied: numpy>=1.10.4 in /usr/local/lib/python3.7/dist-packages (from boruta) (1.19.5)\n",
            "Requirement already satisfied: joblib>=0.11 in /usr/local/lib/python3.7/dist-packages (from scikit-learn>=0.17.1->boruta) (1.0.1)\n"
          ],
          "name": "stdout"
        }
      ]
    },
    {
      "cell_type": "code",
      "metadata": {
        "id": "1hm2TIK2N7Ka"
      },
      "source": [
        "import inflection\n",
        "import math \n",
        "import seaborn as sns\n",
        "import matplotlib.gridspec as gridSpec\n",
        "import numpy as np\n",
        "import datetime as dt\n",
        "import pandas as pd\n",
        "import timedelta\n",
        "from tabulate              import tabulate\n",
        "from datetime              import timedelta\n",
        "from sklearn.preprocessing import RobustScaler, MinMaxScaler, LabelEncoder \n",
        "from sklearn.ensemble      import RandomForestRegressor\n",
        "from sklearn.metrics       import mean_absolute_error, mean_squared_error\n",
        "from scipy                 import stats as ss\n",
        "from matplotlib            import pyplot as plt\n",
        "from matplotlib            import rcParams\n",
        "from numpy                 import int64\n",
        "from IPython.display       import Image\n",
        "from datetime              import datetime\n",
        "from datetime              import timedelta\n",
        "from boruta                import BorutaPy"
      ],
      "execution_count": 111,
      "outputs": []
    },
    {
      "cell_type": "markdown",
      "metadata": {
        "id": "8SbDxgeWN7Kb"
      },
      "source": [
        "## 0.1. Helper Functions"
      ]
    },
    {
      "cell_type": "code",
      "metadata": {
        "id": "ITWdMkzMN7Kc"
      },
      "source": [
        "def cramer_v (x,y):\n",
        "    cm= pd.crosstab(x,y).values\n",
        "    n=cm.sum()\n",
        "    r, k = cm.shape\n",
        "    \n",
        "    chi2 = ss.chi2_contingency(cm)[0]\n",
        "    chi2corr = max(0, chi2 - (k-1)*(r-1)/(n-1))\n",
        "    \n",
        "    kcorr = k - (k-1)**2/(n-1)\n",
        "    rcorr = r - (r-1)**2/(n-1)\n",
        "    return np.sqrt((chi2corr/n)/(min( kcorr-1, rcorr-1)))\n"
      ],
      "execution_count": null,
      "outputs": []
    },
    {
      "cell_type": "markdown",
      "metadata": {
        "id": "FhjabTl8N7Kd"
      },
      "source": [
        "## 0.2. Carregando os Dados"
      ]
    },
    {
      "cell_type": "code",
      "metadata": {
        "id": "XxisKGXSSNeI"
      },
      "source": [
        "from google.colab import drive\n",
        "drive.mount('/content/drive')\n",
        "\n",
        "df_sales_raw = pd.read_csv('/content/drive/MyDrive/repos/DataScience_Em_Producao/data/train.csv')\n",
        "df_store_raw = pd.read_csv('/content/drive/MyDrive/repos/DataScience_Em_Producao/data/store.csv')\n",
        "\n",
        "\n",
        "\n"
      ],
      "execution_count": null,
      "outputs": []
    },
    {
      "cell_type": "code",
      "metadata": {
        "id": "2-ngETe6XI8g"
      },
      "source": [
        "from google.colab import drive\n",
        "drive.mount('/content/drive')\n",
        "\n",
        "df_sales_raw = pd.read_csv('/content/drive/MyDrive/repos/DataScience_Em_Producao/data/train.csv')\n",
        "df_store_raw = pd.read_csv('/content/drive/MyDrive/repos/DataScience_Em_Producao/data/store.csv')\n",
        "\n",
        "\n",
        "\n"
      ],
      "execution_count": null,
      "outputs": []
    },
    {
      "cell_type": "code",
      "metadata": {
        "id": "oGUoYwweN7Kg"
      },
      "source": [
        "df_store_raw.head()"
      ],
      "execution_count": null,
      "outputs": []
    },
    {
      "cell_type": "code",
      "metadata": {
        "id": "29QIgLrkU4DA"
      },
      "source": [
        "df_sales_raw.head()"
      ],
      "execution_count": null,
      "outputs": []
    },
    {
      "cell_type": "code",
      "metadata": {
        "id": "4XstAFJeN7Kh"
      },
      "source": [
        "df_raw= pd.merge(df_sales_raw, df_store_raw, how='left', on='Store')\n",
        "\n"
      ],
      "execution_count": null,
      "outputs": []
    },
    {
      "cell_type": "code",
      "metadata": {
        "id": "BqW1VSLSN7Ki"
      },
      "source": [
        "df_sales_raw.head()"
      ],
      "execution_count": null,
      "outputs": []
    },
    {
      "cell_type": "code",
      "metadata": {
        "id": "Zv-K9YL-N7Kj"
      },
      "source": [
        "df_raw=pd.merge(df_sales_raw, df_store_raw, how='left', on= 'Store' )"
      ],
      "execution_count": null,
      "outputs": []
    },
    {
      "cell_type": "code",
      "metadata": {
        "id": "5oDx4VZYN7Kk"
      },
      "source": [
        "df_raw.sample()"
      ],
      "execution_count": null,
      "outputs": []
    },
    {
      "cell_type": "code",
      "metadata": {
        "id": "HwBj6e_ZXzDr"
      },
      "source": [
        "print(df_raw.shape)"
      ],
      "execution_count": null,
      "outputs": []
    },
    {
      "cell_type": "markdown",
      "metadata": {
        "id": "-g_IDTRVN7Kl"
      },
      "source": [
        "# 1 - Descrição dos dados"
      ]
    },
    {
      "cell_type": "markdown",
      "metadata": {
        "id": "_NlX-1rUN7Km"
      },
      "source": [
        "## 1.0 - Rename Columns"
      ]
    },
    {
      "cell_type": "code",
      "metadata": {
        "id": "NPXmeFCuN7Km"
      },
      "source": [
        "df1=df_raw.copy()"
      ],
      "execution_count": null,
      "outputs": []
    },
    {
      "cell_type": "code",
      "metadata": {
        "id": "i4-UmvRrN7Kn"
      },
      "source": [
        "df1.columns"
      ],
      "execution_count": null,
      "outputs": []
    },
    {
      "cell_type": "code",
      "metadata": {
        "id": "Vu1KLSkLN7Kv"
      },
      "source": [
        "cols_old= ['Store', 'DayOfWeek', 'Date', 'Sales', 'Customers', 'Open', 'Promo',\n",
        "       'StateHoliday', 'SchoolHoliday', 'StoreType', 'Assortment',\n",
        "       'CompetitionDistance', 'CompetitionOpenSinceMonth',\n",
        "       'CompetitionOpenSinceYear', 'Promo2', 'Promo2SinceWeek',\n",
        "       'Promo2SinceYear', 'PromoInterval'] "
      ],
      "execution_count": null,
      "outputs": []
    },
    {
      "cell_type": "code",
      "metadata": {
        "id": "NY94oYUXN7Kw"
      },
      "source": [
        "snakecase = lambda x: inflection.underscore(x)  #Função para transformar os dados em snakecase\n",
        "cols_new = list(map(snakecase, cols_old))"
      ],
      "execution_count": null,
      "outputs": []
    },
    {
      "cell_type": "code",
      "metadata": {
        "id": "qDxJptKfN7Kx"
      },
      "source": [
        "df1.columns = cols_new"
      ],
      "execution_count": null,
      "outputs": []
    },
    {
      "cell_type": "code",
      "metadata": {
        "id": "c5l_3adeN7Ky"
      },
      "source": [
        "\r\n",
        "df1.columns"
      ],
      "execution_count": null,
      "outputs": []
    },
    {
      "cell_type": "markdown",
      "metadata": {
        "id": "svK4ZsjIN7Ky"
      },
      "source": [
        "## 1.2 Data Dimensions"
      ]
    },
    {
      "cell_type": "code",
      "metadata": {
        "id": "2dsx6g-uN7Kz"
      },
      "source": [
        "print('Number of Rows: {}' .format(df1.shape[0]))\n",
        "print('Number of Cols: {}' .format(df1.shape[1]))"
      ],
      "execution_count": null,
      "outputs": []
    },
    {
      "cell_type": "markdown",
      "metadata": {
        "id": "r3U8GDQRN7K1"
      },
      "source": [
        "## 1.3 Data Type"
      ]
    },
    {
      "cell_type": "code",
      "metadata": {
        "id": "6PLdukL6N7K1"
      },
      "source": [
        "df1.dtypes"
      ],
      "execution_count": null,
      "outputs": []
    },
    {
      "cell_type": "markdown",
      "metadata": {
        "id": "UsfVcUPVN7K2"
      },
      "source": [
        "\n",
        "## 1.4 Check NA"
      ]
    },
    {
      "cell_type": "code",
      "metadata": {
        "id": "4gSWJnQZN7K2"
      },
      "source": [
        "df1.isna().sum()"
      ],
      "execution_count": null,
      "outputs": []
    },
    {
      "cell_type": "markdown",
      "metadata": {
        "id": "XjhTm9saN7K3"
      },
      "source": [
        "## 1.5 Fillout NA "
      ]
    },
    {
      "cell_type": "code",
      "metadata": {
        "id": "A4AYvJ9gN7K4"
      },
      "source": [
        "#competition_distance              2642\n",
        "#competition_open_since_month    323348\n",
        "#competition_open_since_year     323348\n",
        "#promo2_since_week               508031\n",
        "#promo2_since_year               508031\n",
        "#promo_interval                  508031"
      ],
      "execution_count": null,
      "outputs": []
    },
    {
      "cell_type": "code",
      "metadata": {
        "id": "O_g-vudBN7K4"
      },
      "source": [
        "#competition_distance \n",
        "df1['competition_distance'].max()"
      ],
      "execution_count": null,
      "outputs": []
    },
    {
      "cell_type": "code",
      "metadata": {
        "id": "X5jh4wUBN7K5"
      },
      "source": [
        "df1['competition_distance'] = df1['competition_distance'].apply(lambda x: 200000.0 if math.isnan(x)else x)"
      ],
      "execution_count": null,
      "outputs": []
    },
    {
      "cell_type": "code",
      "metadata": {
        "id": "4c5OzNkMN7K5"
      },
      "source": [
        "print(df1[df1['competition_distance']==200000.0].shape)"
      ],
      "execution_count": null,
      "outputs": []
    },
    {
      "cell_type": "code",
      "metadata": {
        "id": "_tlG7nAPN7K6"
      },
      "source": [
        "df1.isna().sum()"
      ],
      "execution_count": null,
      "outputs": []
    },
    {
      "cell_type": "code",
      "metadata": {
        "id": "yeX1M1EjN7K8"
      },
      "source": [
        "df1['date']= pd.to_datetime(df1['date'])"
      ],
      "execution_count": null,
      "outputs": []
    },
    {
      "cell_type": "code",
      "metadata": {
        "id": "TovB0cECN7K9"
      },
      "source": [
        "df1.dtypes"
      ],
      "execution_count": null,
      "outputs": []
    },
    {
      "cell_type": "code",
      "metadata": {
        "id": "KqFCUw0DN7K9"
      },
      "source": [
        "df1.isna().sum()"
      ],
      "execution_count": null,
      "outputs": []
    },
    {
      "cell_type": "code",
      "metadata": {
        "id": "xKCFcHr0N7K-"
      },
      "source": [
        "df1['competition_open_since_year']=df1.apply(lambda x: x['date'].year if math.isnan(x['competition_open_since_year']) else x ['competition_open_since_year'], axis=1 )\n",
        "df1['competition_open_since_month']=df1.apply(lambda x: x['date'].month if math.isnan(x ['competition_open_since_month']) else x['competition_open_since_month'], axis=1)   "
      ],
      "execution_count": null,
      "outputs": []
    },
    {
      "cell_type": "code",
      "metadata": {
        "id": "NMTt4X32N7K_"
      },
      "source": [
        "#promo2_since_week\n",
        "df1['promo2_since_week']=df1.apply(lambda x: x['date'].week if math.isnan(x['promo2_since_week']) else x ['promo2_since_week'],axis=1 )\n",
        "\n",
        "#promo2_since_year \n",
        "df1['promo2_since_year']=df1.apply(lambda x: x['date'].year if math.isnan(x['promo2_since_year']) else x ['promo2_since_year'], axis=1 )\n",
        "\n",
        "#Dicionario criado para fazer o mapeamento para a coluna month_map\n",
        "month_map = {1:'Jan',2:'Fev', 3:'Mar', 4:'Apr', 5:'May', 6:'Jun', 7:'Jul', 8:'Aug', 9:'Sep', 10:'Oct', 11:'Nov', 12:'Dec'}\n",
        "\n",
        "#Preenchendo os NA com 0\n",
        "df1['promo_interval'].fillna(0, inplace=True)\n",
        "\n",
        "#Criando a coluna month_map buscando a partir no mês da coluna data \n",
        "df1['month_map'] = df1['date'].dt.month.map(month_map)\n",
        "\n",
        "#Criando a coluna in_promo: Se o mês da coluna month map estiver contido na coluna promo interval retorna 1(esta participando da promo), \n",
        "#se retornar 0 signigica que não esta participando da promoção.\n",
        "\n",
        "df1['in promo']= df1[['promo_interval', 'month_map']].apply(lambda x: 0 if x['promo_interval'] == 0 \n",
        "else 1 if x['month_map'] in x['promo_interval'].split(',') else 0, axis=1)\n",
        "                                                            \n",
        "\n",
        "\n",
        "\n",
        "\n",
        "\n",
        "\n",
        "\n",
        "\n"
      ],
      "execution_count": null,
      "outputs": []
    },
    {
      "cell_type": "code",
      "metadata": {
        "id": "xFLRrPLYN7LB"
      },
      "source": [
        "df1.sample(50).T"
      ],
      "execution_count": null,
      "outputs": []
    },
    {
      "cell_type": "code",
      "metadata": {
        "id": "7fujtREzN7LB"
      },
      "source": [
        "df1.isna().sum()"
      ],
      "execution_count": null,
      "outputs": []
    },
    {
      "cell_type": "code",
      "metadata": {
        "id": "uxtYamS1N7LC"
      },
      "source": [
        "print(df1['in promo'].unique() )"
      ],
      "execution_count": null,
      "outputs": []
    },
    {
      "cell_type": "code",
      "metadata": {
        "id": "CvBWbApuN7LD"
      },
      "source": [
        "print(df1[df1['in promo']==1].shape)"
      ],
      "execution_count": null,
      "outputs": []
    },
    {
      "cell_type": "code",
      "metadata": {
        "id": "gejg2pH-N7LE"
      },
      "source": [
        "print(df1.shape)"
      ],
      "execution_count": null,
      "outputs": []
    },
    {
      "cell_type": "markdown",
      "metadata": {
        "id": "qcnXYw-GN7LE"
      },
      "source": [
        "## 1.6 Change dtypes"
      ]
    },
    {
      "cell_type": "code",
      "metadata": {
        "id": "jwqqbGYFN7LF"
      },
      "source": [
        "df1.dtypes"
      ],
      "execution_count": null,
      "outputs": []
    },
    {
      "cell_type": "code",
      "metadata": {
        "id": "D1yJXavdN7LF"
      },
      "source": [
        "df1['competition_open_since_month'] = df1['competition_open_since_month'].astype(int64)\n"
      ],
      "execution_count": null,
      "outputs": []
    },
    {
      "cell_type": "code",
      "metadata": {
        "id": "ihqY7z4rN7LG"
      },
      "source": [
        "df1['competition_open_since_year'] = df1['competition_open_since_year'].astype(int64)\n"
      ],
      "execution_count": null,
      "outputs": []
    },
    {
      "cell_type": "code",
      "metadata": {
        "id": "ee0hkZvoN7LG"
      },
      "source": [
        "df1.dtypes"
      ],
      "execution_count": null,
      "outputs": []
    },
    {
      "cell_type": "code",
      "metadata": {
        "id": "fL2SafYXN7LH"
      },
      "source": [
        "df1['promo2_since_week'] = df1['promo2_since_week'].astype(int64)\n",
        "df1['promo2_since_year'] = df1['promo2_since_year'].astype(int64)\n"
      ],
      "execution_count": null,
      "outputs": []
    },
    {
      "cell_type": "code",
      "metadata": {
        "id": "XfesoSGiN7LH"
      },
      "source": [
        "df1.dtypes"
      ],
      "execution_count": null,
      "outputs": []
    },
    {
      "cell_type": "markdown",
      "metadata": {
        "id": "e_YTy9aCN7LI"
      },
      "source": [
        "## 1.7 Descritive Statistical"
      ]
    },
    {
      "cell_type": "code",
      "metadata": {
        "id": "R3G6Wg_wN7LJ"
      },
      "source": [
        "num_attributes = df1.select_dtypes(include = ['int64', 'float64'])\n",
        "cat_attributes = df1.select_dtypes(exclude = ['int64', 'float64','datetime64[ns]'])"
      ],
      "execution_count": null,
      "outputs": []
    },
    {
      "cell_type": "code",
      "metadata": {
        "id": "sRJwX9WlN7LJ"
      },
      "source": [
        "cat_attributes.sample(2)"
      ],
      "execution_count": null,
      "outputs": []
    },
    {
      "cell_type": "markdown",
      "metadata": {
        "id": "k7uq39dvN7LK"
      },
      "source": [
        "### 1.7.1 Numerical Attributes"
      ]
    },
    {
      "cell_type": "code",
      "metadata": {
        "id": "fbHB3GqPN7LK"
      },
      "source": [
        "#Central Tendence - mean, median\n",
        "ct1 = pd.DataFrame(num_attributes.apply(np.mean)).T\n",
        "ct2 = pd.DataFrame(num_attributes.apply(np.median)).T\n",
        "\n",
        "#Dispersion - std, min, max, range, skew, kurtosis\n",
        "d1 = pd.DataFrame(num_attributes.apply(np.std)).T\n",
        "d2 = pd.DataFrame(num_attributes.apply(np.min)).T\n",
        "d3 = pd.DataFrame(num_attributes.apply(np.max)).T\n",
        "d4 = pd.DataFrame(num_attributes.apply(lambda x: x.max() - x.min() )).T\n",
        "d5 = pd.DataFrame(num_attributes.apply(lambda x: x.skew()  )).T\n",
        "d6 = pd.DataFrame(num_attributes.apply(lambda x: x.kurtosis() )).T\n",
        "\n",
        "#concatenate\n",
        "\n",
        "m = pd.concat([d2,d3,d4,ct1,ct2,d1,d5,d6] ).T.reset_index()\n",
        "m.columns = ['atributes','min', 'max', 'range', 'mean', 'median', 'std', 'skew','kurtosis']\n",
        "m\n",
        "\n",
        "\n"
      ],
      "execution_count": null,
      "outputs": []
    },
    {
      "cell_type": "code",
      "metadata": {
        "id": "Hbl9rrJpN7LL"
      },
      "source": [
        "sns.set(rc={'figure.figsize':(30,21.27)})\n",
        "sns.displot(df1['competition_distance'])\n"
      ],
      "execution_count": null,
      "outputs": []
    },
    {
      "cell_type": "markdown",
      "metadata": {
        "id": "VmoEIJJNN7LM"
      },
      "source": [
        "### 1.7.2 Categorical Attributes"
      ]
    },
    {
      "cell_type": "code",
      "metadata": {
        "id": "YMMp4FcbN7LM"
      },
      "source": [
        "cat_attributes.apply(lambda x: x.unique().shape[0]) #Imprime os tipos de cada variável"
      ],
      "execution_count": null,
      "outputs": []
    },
    {
      "cell_type": "code",
      "metadata": {
        "id": "fXCVShziN7LN"
      },
      "source": [
        "df1.head()"
      ],
      "execution_count": null,
      "outputs": []
    },
    {
      "cell_type": "code",
      "metadata": {
        "id": "IAqCmDiCN7LO"
      },
      "source": [
        "sns.set(rc={'figure.figsize':(21,15)})\n",
        "aux1 = df1[df1['state_holiday'] != 0 & (df1['sales'] > 0)]\n",
        "sns.boxplot ( x ='state_holiday', y= 'sales', data= aux1)"
      ],
      "execution_count": null,
      "outputs": []
    },
    {
      "cell_type": "markdown",
      "metadata": {
        "id": "czGwiRbJN7LO"
      },
      "source": [
        "# 2.0 PASSO 02: FEATURE ENGINEERING"
      ]
    },
    {
      "cell_type": "markdown",
      "metadata": {
        "id": "R4_lPj91N7LP"
      },
      "source": [
        "## 2.1 Mapa Mental de Hipóteses"
      ]
    },
    {
      "cell_type": "code",
      "metadata": {
        "id": "DnqIFHH0N7LP"
      },
      "source": [
        "df2 = df1.copy()"
      ],
      "execution_count": null,
      "outputs": []
    },
    {
      "cell_type": "code",
      "metadata": {
        "id": "2oLi-UvGN7LQ"
      },
      "source": [
        "Image('img/MindMapHipothesis.png')"
      ],
      "execution_count": null,
      "outputs": []
    },
    {
      "cell_type": "markdown",
      "metadata": {
        "id": "NtEeIADcN7LR"
      },
      "source": [
        "\n",
        "## Criação  das Hipóteses"
      ]
    },
    {
      "cell_type": "markdown",
      "metadata": {
        "id": "WhL2HT9eN7LR"
      },
      "source": [
        "## 2.1.1 Hipóteses Lojas"
      ]
    },
    {
      "cell_type": "markdown",
      "metadata": {
        "id": "c_D4nSYaN7LS"
      },
      "source": [
        "**1.** Lojas com maior quadro de funcionários deveriam vender mais.\n",
        "\n",
        "**2.** Lojas com maior capacidade de estoque deveriam vender mais.\n",
        "\n",
        "**3.** Lojas com maior porte deveriam vender mais.\n",
        "\n",
        "**4.** Lojas com competidores mais próximos deveriam vender menos.\n",
        "\n",
        "**5.** Lojas com competidores a mais tempos deveriam vender mais .\n",
        "\n",
        "**6.** Lojas com maior sortimento deveriam vender mais."
      ]
    },
    {
      "cell_type": "markdown",
      "metadata": {
        "id": "PGJgx5NYN7LS"
      },
      "source": [
        "## 2.1.2 Hipóteses Produtos"
      ]
    },
    {
      "cell_type": "markdown",
      "metadata": {
        "id": "JGOjchfLN7LT"
      },
      "source": [
        "\n",
        " **1.** Lojas que investem mais em Marketing deveriam vender mais.\n",
        "\n",
        "**2.** Lojas que expõe mais os produtos nas vitrines deveriam vender mais.\n",
        "\n",
        "**3.** Lojas que tem preços menores nos produtos deveriam vender mais.\n",
        "\n",
        "**4.** Lojas como promoções mais agressivas (descontos maiores), deveriam vender mais.\n",
        "\n",
        "**5.** Lojas como promoções ativas por mais tempo deveriam vender mais.\n",
        "\n",
        "**6.** Lojas com mais dias de promoção deveriam vender mais \n",
        "\n"
      ]
    },
    {
      "cell_type": "markdown",
      "metadata": {
        "id": "lWOyv2yON7LU"
      },
      "source": [
        "## 2.1.3. Hipótese Tempo    "
      ]
    },
    {
      "cell_type": "markdown",
      "metadata": {
        "id": "RIehrm0bN7LU"
      },
      "source": [
        "\n",
        "**1.** Lojas abertas durante o feriado do Natal deveriam vender mais.\n",
        "\n",
        "**2.** Lojas  deveriam vender mais ao longo dos anos.\n",
        "\n",
        "**3.** Lojas  deveriam vender mais no segundo semestre do ano.\n",
        "\n",
        "**4.** Lojas  deveriam vender mais depois do dia 10 de cada mês.\n",
        "\n",
        "**5.** Lojas  deveriam vender menos aos final de semana.\n",
        "\n",
        "**6.** Lojas  deveriam vender menos durante os feriados escolares."
      ]
    },
    {
      "cell_type": "markdown",
      "metadata": {
        "id": "JjAWfHOpN7LV"
      },
      "source": [
        "## 2.2 Lista final de Hipóteses"
      ]
    },
    {
      "cell_type": "markdown",
      "metadata": {
        "id": "1pjVc_0iN7LV"
      },
      "source": [
        "**1.** Lojas com competidores mais próximos deveriam vender menos.\n",
        "\n",
        "**2.** Lojas com maior sortimento deveriam vender mais.\n",
        "\n",
        "**3.** Lojas com competidores a mais tempos deveriam vender mais.\n",
        "\n",
        "**4.** Lojas como promoções mais agressivas (descontos maiores), deveriam vender mais.\n",
        "\n",
        "**5.** Lojas com promoções ativas por mais tempo deveriam vender mais.\n",
        "\n",
        "**6.** Lojas com mais dias de promoção deveriam vender mais. \n",
        "\n",
        "**7.** Lojas abertas durante o feriado do Natal deveriam vender mais.\n",
        "\n",
        "**8.** Lojas  deveriam vender mais ao longo dos anos.\n",
        "\n",
        "**9.** Lojas  deveriam vender mais no segundo semestre do ano.\n",
        "\n",
        "**10.** Lojas  deveriam vender mais depois do dia 10 de cada mês.\n",
        "\n",
        "**11.** Lojas  deveriam vender menos aos finais de semana.\n",
        "\n",
        "**12.** Lojas  deveriam vender menos durante os feriados escolares.\n",
        "\n",
        "\n",
        "\n"
      ]
    },
    {
      "cell_type": "markdown",
      "metadata": {
        "id": "2kFqxxmGN7LW"
      },
      "source": [
        "## 2.3 Feature Enginnering"
      ]
    },
    {
      "cell_type": "code",
      "metadata": {
        "id": "NzOvE4yIN7LY"
      },
      "source": [
        "#year \n",
        "df2['year'] = df2['date'].dt.year\n",
        "\n",
        "#month\n",
        "df2['month'] = df2['date'].dt.month\n",
        "\n",
        "#day\n",
        "df2['day'] = df2['date'].dt.day\n",
        "\n",
        "#week_of_year\n",
        "df2['week_of_year'] = df2['date'].dt.isocalendar().week\n",
        "#df2['week_of_year'] = df2['date'].dt.weekofyear\n",
        "\n",
        "# year_week\n",
        "df2['year_week'] = df2['date'].dt.strftime('%Y - %W')\n",
        "\n",
        "# competition_since\n",
        "df2['competition_since']= df2.apply( lambda x: dt.datetime( year=x['competition_open_since_year'], month=x['competition_open_since_month'],day=1 ), axis=1 )\n",
        "df2['competition_time_month']= ((df2['date'] - df2['competition_since'])/30).apply(lambda x: x.days).astype(int)\n",
        "\n",
        "# promo since\n",
        "df2['promo_since'] = df2['promo2_since_year'].astype(str) + '-' + df2['promo2_since_week'].astype(str)\n",
        "df2['promo_since'] = df2['promo_since'].apply(lambda x: dt.datetime.strptime(x + '-1','%Y-%W-%w') - dt.timedelta(days=7))\n",
        "df2['promo_time_week'] =((df2['date'] - df2['promo_since'])/7).apply(lambda x: x.days).astype(int)\n",
        "\n",
        "#assortment\n",
        "df2['assortment']= df2['assortment'].apply(lambda x: 'basic' if x=='a' else 'extra' if x=='b' else 'extended')\n",
        "\n",
        "#state_holiday\n",
        "df2['state_holiday']=df2['state_holiday'].apply(lambda x: 'public_holiday' if x=='a' else 'easter_holiday' if x=='b' else 'christmas' if x=='c' else 'regular_day')\n",
        "\n",
        "\n",
        "\n"
      ],
      "execution_count": null,
      "outputs": []
    },
    {
      "cell_type": "code",
      "metadata": {
        "id": "iVbGeXAAN7LZ"
      },
      "source": [
        "df2.head().T"
      ],
      "execution_count": null,
      "outputs": []
    },
    {
      "cell_type": "markdown",
      "metadata": {
        "id": "DWIb1LhLN7Le"
      },
      "source": [
        ""
      ]
    },
    {
      "cell_type": "markdown",
      "metadata": {
        "id": "00cfuubWN7Le"
      },
      "source": [
        "# 3.0 Filtragem de Imóveis "
      ]
    },
    {
      "cell_type": "code",
      "metadata": {
        "id": "Ixke5gjwN7Lf"
      },
      "source": [
        "df3 = df2.copy()"
      ],
      "execution_count": null,
      "outputs": []
    },
    {
      "cell_type": "code",
      "metadata": {
        "id": "loN8QfctN7Lf"
      },
      "source": [
        "df3.head()"
      ],
      "execution_count": null,
      "outputs": []
    },
    {
      "cell_type": "code",
      "metadata": {
        "id": "_CrIAQJdN7Lg"
      },
      "source": [
        "df3 = df3[(df3['open']!=0)& (df3['sales']!=0)]"
      ],
      "execution_count": null,
      "outputs": []
    },
    {
      "cell_type": "markdown",
      "metadata": {
        "id": "PTlxD8HGN7Lg"
      },
      "source": [
        "## 3.2. Seleção das Colunas"
      ]
    },
    {
      "cell_type": "code",
      "metadata": {
        "id": "fMnDip0lN7Lh"
      },
      "source": [
        "cols_drop = ['customers','open', 'promo_interval', 'month_map']\n",
        "df3 = df3.drop(cols_drop, axis=1)"
      ],
      "execution_count": null,
      "outputs": []
    },
    {
      "cell_type": "markdown",
      "metadata": {
        "id": "xk38WufIN7Lh"
      },
      "source": [
        "# 4.0 - ANÁLISE EXPLORATÓRIA DOS DADOS"
      ]
    },
    {
      "cell_type": "code",
      "metadata": {
        "id": "2yyiI2IQN7Li"
      },
      "source": [
        "df4 = df3.copy()"
      ],
      "execution_count": null,
      "outputs": []
    },
    {
      "cell_type": "code",
      "metadata": {
        "id": "_-a9ZtltN7Lj"
      },
      "source": [
        "df4.head()"
      ],
      "execution_count": null,
      "outputs": []
    },
    {
      "cell_type": "markdown",
      "metadata": {
        "id": "RJBbfoGwN7Lk"
      },
      "source": [
        "## 4.1 Análise Univariada"
      ]
    },
    {
      "cell_type": "markdown",
      "metadata": {
        "id": "u-LDQGmXN7Lk"
      },
      "source": [
        "### 4.1.2 Response Variable"
      ]
    },
    {
      "cell_type": "code",
      "metadata": {
        "id": "vLg6H21nN7Ll"
      },
      "source": [
        "plt.rcParams['figure.figsize'] = (21,30)\n",
        "sns.displot(df4['sales']);"
      ],
      "execution_count": null,
      "outputs": []
    },
    {
      "cell_type": "markdown",
      "metadata": {
        "id": "XxCtXmVdN7Ll"
      },
      "source": [
        "### 4.1.2 Numerical Variable"
      ]
    },
    {
      "cell_type": "code",
      "metadata": {
        "id": "vfiA6QAjN7Lm"
      },
      "source": [
        "cat_attributes.head()\n",
        "\n",
        "#state_holiday\t\n",
        "#store_type\t\n",
        "#assortment\t\n"
      ],
      "execution_count": null,
      "outputs": []
    },
    {
      "cell_type": "code",
      "metadata": {
        "id": "kjHzj5RVN7Lm"
      },
      "source": [
        "sns.set(rc={'figure.figsize':(21,15)})\n",
        "num_attributes.hist(bins =25);"
      ],
      "execution_count": null,
      "outputs": []
    },
    {
      "cell_type": "markdown",
      "metadata": {
        "id": "NPj9iuCoN7Ln"
      },
      "source": [
        "### 4.1.3 Categorical Variable"
      ]
    },
    {
      "cell_type": "code",
      "metadata": {
        "id": "kGtBko3GN7Ln"
      },
      "source": [
        "#state_holiday\n",
        "plt.figure( figsize=(20, 18))\n",
        "plt.subplot(3,2,1)\n",
        "\n",
        "a = df4[df4['state_holiday']!= 'regular_day']\n",
        "sns.countplot(a['state_holiday'])\n",
        "\n",
        "\n",
        "plt.subplot(3,2,2)\n",
        "sns.kdeplot(df4[df4['state_holiday'] == 'public_holiday']['sales'],label ='public_holiday', shade=True)\n",
        "sns.kdeplot(df4[df4['state_holiday'] == 'easter_holiday']['sales'],label ='easter_holiday', shade=True)\n",
        "sns.kdeplot(df4[df4['state_holiday'] == 'christmas']['sales'],label ='christmas', shade=True)\n",
        "\n",
        "#store_type\n",
        "\n",
        "plt.subplot(3,2,3)\n",
        "sns.countplot(df4['store_type']);\n",
        "\n",
        "plt.subplot(3,2,4)\n",
        "sns.kdeplot(df4[df4['store_type'] == 'a']['sales'],label ='a', shade=True);\n",
        "sns.kdeplot(df4[df4['store_type'] == 'b']['sales'],label ='b', shade=True);\n",
        "sns.kdeplot(df4[df4['store_type'] == 'c']['sales'],label ='c', shade=True);\n",
        "sns.kdeplot(df4[df4['store_type'] == 'd']['sales'],label ='d', shade=True);\n",
        "\n",
        "#assortment\n",
        "\n",
        "plt.subplot(3,2,5)\n",
        "sns.countplot(df4['assortment']);\n",
        "\n",
        "plt.subplot(3,2,6)\n",
        "sns.kdeplot(df4[df4['assortment'] == 'basic']['sales'],label ='basic', shade=True);\n",
        "sns.kdeplot(df4[df4['assortment'] == 'extended']['sales'],label ='extended', shade=True);\n",
        "sns.kdeplot(df4[df4['assortment'] == 'extra']['sales'],label ='extra', shade=True);\n",
        "\n",
        "\n",
        "\n",
        "\n",
        "\n",
        "\n"
      ],
      "execution_count": null,
      "outputs": []
    },
    {
      "cell_type": "markdown",
      "metadata": {
        "id": "6peH-qX7N7Lo"
      },
      "source": [
        "## 4.2 Análise Bivariada"
      ]
    },
    {
      "cell_type": "markdown",
      "metadata": {
        "id": "EMyI2xadN7Lo"
      },
      "source": [
        "### H1. Lojas com maior sortimento deveriam vender mais.\n",
        "***False*** Lojas com MAIOR SORTIMENTO vendem MENOS"
      ]
    },
    {
      "cell_type": "code",
      "metadata": {
        "id": "7QVakRmPN7Lp"
      },
      "source": [
        "aux1= df4[['assortment', 'sales']].groupby('assortment').sum().reset_index()\n",
        "\n",
        "aux2 = df4[['year_week','assortment','sales']].groupby(['year_week','assortment']).sum().reset_index()\n",
        "aux2.pivot(index= 'year_week', columns='assortment', values='sales').plot();\n",
        "\n",
        "aux3 = aux2[aux2['assortment']=='extra']\n",
        "aux3.pivot(index= 'year_week', columns='assortment', values='sales').plot();"
      ],
      "execution_count": null,
      "outputs": []
    },
    {
      "cell_type": "markdown",
      "metadata": {
        "id": "HUxxiWAWN7Lp"
      },
      "source": [
        "###  H2 - Lojas com competidores mais próximos deveriam vender menos.\n",
        "**Falsa** Lojas com competidores mais PRÓXIMOS vendem MAIS\n",
        "\n",
        "\n",
        "\n",
        "\n"
      ]
    },
    {
      "cell_type": "code",
      "metadata": {
        "id": "GPBtLw4sN7Lq"
      },
      "source": [
        "aux1 = df4[['competition_distance', 'sales']].groupby('competition_distance').sum().reset_index()\n",
        "plt.subplot(1,3,1)\n",
        "sns.scatterplot(x ='competition_distance', y='sales', data=aux1)\n",
        "\n",
        "plt.subplot(1,3,2)\n",
        "bins = list(np.arange(0,20000, 1000))\n",
        "aux1['competition_distance_binned'] = pd.cut(aux1['competition_distance'], bins=bins)\n",
        "aux2 = aux1[['competition_distance_binned', 'sales']].groupby('competition_distance_binned').sum().reset_index()\n",
        "sns.barplot(x='competition_distance_binned', y='sales', data=aux2);\n",
        "plt.xticks(rotation=90)\n",
        "\n",
        "plt.subplot(1,3,3)\n",
        "sns.heatmap(aux1.corr(method='pearson'), annot=True)"
      ],
      "execution_count": null,
      "outputs": []
    },
    {
      "cell_type": "markdown",
      "metadata": {
        "id": "HPbRUUw7N7Lq"
      },
      "source": [
        "### H3. Lojas com competidores a mais tempo deveriam vender mais.\n",
        "**Falsa** Loja com COMPETIDORES a MAIS TEMPO vende MENOS. "
      ]
    },
    {
      "cell_type": "code",
      "metadata": {
        "id": "xILwrSAWN7Lr"
      },
      "source": [
        "plt.figure( figsize=(40, 22))\n",
        "\n",
        "plt.subplot(1,3,1)\n",
        "aux1 = df4[['competition_time_month', 'sales']].groupby('competition_time_month').sum().reset_index()\n",
        "aux2 = aux1[(aux1['competition_time_month']<120)& (aux1['competition_time_month'] !=0)]\n",
        "sns.barplot(x='competition_time_month', y='sales', data=aux2);\n",
        "plt.xticks(rotation=90);\n",
        "\n",
        "plt.subplot(1,3,2)\n",
        "sns.regplot(x='competition_time_month', y='sales', data=aux2)\n",
        "\n",
        "plt.subplot(1,3,3)\n",
        "x=sns.heatmap(aux1.corr(method='pearson'), annot =True)\n",
        "\n",
        "\n"
      ],
      "execution_count": null,
      "outputs": []
    },
    {
      "cell_type": "markdown",
      "metadata": {
        "id": "NpubcoDWN7Lr"
      },
      "source": [
        "### **H4.**  Lojas como promoções ativas por mais tempo deveriam vender mais.\n",
        "**Falsa** Lojas com promoçoes ativas por MAIS TEMPO vendem MENOS, depois de um certo período de promoção."
      ]
    },
    {
      "cell_type": "code",
      "metadata": {
        "id": "EGHFiWjZN7Ls"
      },
      "source": [
        "aux1 = df4[['promo_time_week', 'sales']].groupby('promo_time_week').sum().reset_index()\n",
        "\n",
        "plt.subplot(2,3,1)\n",
        "aux2 = aux1[aux1['promo_time_week'] > 0]  #promo extendido\n",
        "sns.barplot(x='promo_time_week', y='sales', data=aux2);\n",
        "plt.xticks(rotation =90);\n",
        "\n",
        "plt.subplot(2,3,2)\n",
        "sns.regplot(x='promo_time_week', y='sales', data=aux2);\n",
        "\n",
        "plt.subplot(2,3,3)\n",
        "aux3 = aux1[aux1['promo_time_week'] < 0]  #promo regular \n",
        "sns.barplot(x='promo_time_week', y='sales', data=aux3);\n",
        "plt.xticks(rotation =90);\n",
        "\n",
        "plt.subplot(2,3,4)\n",
        "sns.regplot(x='promo_time_week', y='sales', data=aux3);\n",
        "\n",
        "plt.subplot(2,3,5)\n",
        "sns.heatmap(aux1.corr(method='pearson'), annot=True);\n"
      ],
      "execution_count": null,
      "outputs": []
    },
    {
      "cell_type": "markdown",
      "metadata": {
        "id": "LZsYSzprN7Lt"
      },
      "source": [
        "### <s>**H5.** Lojas com mais dias de promoção deveriam vender mais </s>\n"
      ]
    },
    {
      "cell_type": "markdown",
      "metadata": {
        "id": "HUXslMqLN7Lu"
      },
      "source": [
        "### **H6.** Lojas como promoções consecutivas deveriam vender mais.\n",
        "**Falsa** Lojas como promoções consecutivas vendem menos."
      ]
    },
    {
      "cell_type": "code",
      "metadata": {
        "id": "-s4te-5xN7Lv"
      },
      "source": [
        "df4[['promo','promo2', 'sales']].groupby(['promo','promo2']).sum().reset_index()"
      ],
      "execution_count": null,
      "outputs": []
    },
    {
      "cell_type": "code",
      "metadata": {
        "id": "jPw7_giWN7Lv"
      },
      "source": [
        "aux1 = df4[(df4['promo']==1) & (df4['promo2']==1)][['year_week','sales']].groupby('year_week').sum().reset_index()\n",
        "ax = aux1.plot()\n",
        "\n",
        "aux2 = df4[(df4['promo']==1) & (df4['promo2']==0)][['year_week','sales']].groupby('year_week').sum().reset_index()\n",
        "aux2.plot(ax=ax)\n",
        "\n",
        "ax.legend(labels=['Tradicional & Extendida','Extendida']);"
      ],
      "execution_count": null,
      "outputs": []
    },
    {
      "cell_type": "markdown",
      "metadata": {
        "id": "oAizGS5LN7Lw"
      },
      "source": [
        "### **H7.** Lojas abertas durante o feriado do Natal deveriam vender mais.\n",
        "**Falsa** Lojas abertas durante o feriado do Natal vendem menos."
      ]
    },
    {
      "cell_type": "code",
      "metadata": {
        "id": "N92yDnNaN7Lx"
      },
      "source": [
        "plt.figure( figsize=(20, 10))\n",
        "aux= df4[df4['state_holiday'] != 'regular_day']\n",
        "\n",
        "plt.subplot(1,2,1)\n",
        "aux1 = aux[['state_holiday', 'sales']].groupby('state_holiday').sum().reset_index()\n",
        "sns.barplot(x='state_holiday', y='sales', data = aux1);\n",
        "\n",
        "plt.subplot(1,2,2)\n",
        "aux2= aux[['year', 'state_holiday','sales']].groupby(['year', 'state_holiday']).sum().reset_index()\n",
        "sns.barplot(x='year', y='sales', hue='state_holiday', data=aux2);   "
      ],
      "execution_count": null,
      "outputs": []
    },
    {
      "cell_type": "markdown",
      "metadata": {
        "id": "oikwj_z3N7Lz"
      },
      "source": [
        "### **H8.** Lojas  deveriam vender mais ao longo dos anos.\n",
        "**Falsa** As lojas têm vendido menos ao longo dos anos."
      ]
    },
    {
      "cell_type": "code",
      "metadata": {
        "id": "4frURj3uN7L0"
      },
      "source": [
        "aux1 = df4[['year','sales']].groupby('year').sum().reset_index()\n",
        "plt.figure( figsize=(20, 10))\n",
        "\n",
        "plt.subplot(1,3,1)\n",
        "sns.barplot(x='year', y='sales', data=aux1);\n",
        "\n",
        "plt.subplot(1,3,2)\n",
        "sns.regplot(x='year', y='sales', data=aux1);\n",
        "\n",
        "plt.subplot(1,3,3)\n",
        "sns.heatmap(aux1.corr(method='pearson'), annot=True);\n",
        "\n",
        "\n"
      ],
      "execution_count": null,
      "outputs": []
    },
    {
      "cell_type": "markdown",
      "metadata": {
        "id": "8getWtXvN7L0"
      },
      "source": [
        "### **H9.** Lojas  deveriam vender mais no segundo semestre do ano.\n",
        "**Falsa** As vendas caem no segundo semestre."
      ]
    },
    {
      "cell_type": "code",
      "metadata": {
        "id": "uRr9UIZmN7L1"
      },
      "source": [
        "aux1 = df4[['month','sales']].groupby('month').sum().reset_index()\n",
        "plt.figure( figsize=(20, 10))\n",
        "\n",
        "plt.subplot(1,3,1)\n",
        "sns.barplot(x='month', y='sales', data=aux1);\n",
        "\n",
        "plt.subplot(1,3,2)\n",
        "sns.regplot(x='month', y='sales', data=aux1);\n",
        "\n",
        "plt.subplot(1,3,3)\n",
        "sns.heatmap(aux1.corr(method='pearson'), annot=True);\n",
        "\n",
        "\n"
      ],
      "execution_count": null,
      "outputs": []
    },
    {
      "cell_type": "markdown",
      "metadata": {
        "id": "qhtEKujyN7L2"
      },
      "source": [
        "### **H10.** Lojas  deveriam vender mais depois do dia 10 de cada mês.\n",
        "**Verdadeira** Lojas vendem mais depois dia 10"
      ]
    },
    {
      "cell_type": "code",
      "metadata": {
        "id": "LfidClHuN7L2"
      },
      "source": [
        "aux1 = df4[['day','sales']].groupby('day').sum().reset_index()\n",
        "plt.figure( figsize=(20, 10))\n",
        "\n",
        "plt.subplot(2,2,1)\n",
        "sns.barplot(x='day', y='sales', data=aux1);\n",
        "\n",
        "plt.subplot(2,2,2)\n",
        "sns.regplot(x='day', y='sales', data=aux1);\n",
        "\n",
        "plt.subplot(2,2,3)\n",
        "sns.heatmap(aux1.corr(method='pearson'), annot=True);\n",
        "\n",
        "aux1['before_after'] = aux1['day'].apply(lambda x: 'before_10_days' if x<=10 else 'after_10_days')\n",
        "aux2= aux1[['before_after', 'sales']].groupby('before_after').sum().reset_index()\n",
        "\n",
        "plt.subplot(2,2,4)\n",
        "sns.barplot(x='before_after', y='sales', data= aux2)"
      ],
      "execution_count": null,
      "outputs": []
    },
    {
      "cell_type": "markdown",
      "metadata": {
        "id": "80mTPZu7N7L3"
      },
      "source": [
        "### **H11.** Lojas  deveriam vender menos aos finais de semana.\n",
        "**Falsa** Lojas vendem menos aos finais de semana.\n"
      ]
    },
    {
      "cell_type": "code",
      "metadata": {
        "id": "W7Eqsn9wN7L3"
      },
      "source": [
        "aux1 = df4[['day_of_week','sales']].groupby('day_of_week').sum().reset_index()\n",
        "plt.figure( figsize=(20, 10))\n",
        "\n",
        "plt.subplot(1,3,1)\n",
        "sns.barplot(x='day_of_week', y='sales', data=aux1);\n",
        "\n",
        "plt.subplot(1,3,2)\n",
        "sns.regplot(x='day_of_week', y='sales', data=aux1);\n",
        "\n",
        "plt.subplot(1,3,3)\n",
        "sns.heatmap(aux1.corr(method='pearson'), annot=True);\n",
        "\n"
      ],
      "execution_count": null,
      "outputs": []
    },
    {
      "cell_type": "markdown",
      "metadata": {
        "id": "xqCov8I9N7L4"
      },
      "source": [
        "### **H12.** Lojas  deveriam vender menos durante os feriados escolares.\n",
        "**Verdadeira** Lojas vendem menos aos finais de semana, exceto nos meses de julho e agosto."
      ]
    },
    {
      "cell_type": "code",
      "metadata": {
        "id": "W8vsC6PWN7L4"
      },
      "source": [
        "aux1= df4[['school_holiday','sales']].groupby('school_holiday').sum().reset_index()\n",
        "plt.subplot(2,1,1)\n",
        "sns.barplot(x='school_holiday', y='sales', data=aux1);\n",
        "aux2 =df4[['month','school_holiday','sales']].groupby(['month','school_holiday']).sum().reset_index()\n",
        "plt.subplot(2,1,2)\n",
        "sns.barplot(x='month', y='sales', hue='school_holiday', data=aux2);\n",
        "\n"
      ],
      "execution_count": null,
      "outputs": []
    },
    {
      "cell_type": "markdown",
      "metadata": {
        "id": "KGhrOll6JBAy"
      },
      "source": [
        "### 4.2.1. Resumo da Hipóteses"
      ]
    },
    {
      "cell_type": "code",
      "metadata": {
        "id": "u91TGq8IJXCv"
      },
      "source": [
        "tab = [['Hipóteses', 'Conclusão', 'Relevãncia'],\r\n",
        "['H1', 'Falsa', 'Baixa'],\r\n",
        "['H2', 'Falsa', 'Média'],\r\n",
        "['H3', 'Falsa', 'Média'],\r\n",
        "['H4', 'Falsa', 'Baixa'],\r\n",
        "['H5',   '-',     '-'],\r\n",
        "['H6', 'Falsa', 'Baixa'],\r\n",
        "['H7', 'Falsa', 'Média'],\r\n",
        "['H8', 'Falsa', 'Alta'],\r\n",
        "['H9', 'Falsa', 'Alta'],\r\n",
        "['H10','Verdadeira', 'Alta'],\r\n",
        "['H11','Verdadeira', 'Alta'],\r\n",
        "['H12','Verdadeira', 'Baixa'],\r\n",
        "]\r\n",
        "print(tabulate(tab, headers='firstrow'))"
      ],
      "execution_count": null,
      "outputs": []
    },
    {
      "cell_type": "markdown",
      "metadata": {
        "id": "WR0QxNsLN7L5"
      },
      "source": [
        "## 4.3 - Análise Multivariada "
      ]
    },
    {
      "cell_type": "markdown",
      "metadata": {
        "id": "3g9bpMyiN7L5"
      },
      "source": [
        "### 4.3.1. Numerical Attributes"
      ]
    },
    {
      "cell_type": "code",
      "metadata": {
        "id": "gMk_xAehN7L6"
      },
      "source": [
        "plt.figure( figsize=(20, 5))\n",
        "correlation = num_attributes.corr(method='pearson')\n",
        "sns.heatmap(correlation, annot=True)"
      ],
      "execution_count": null,
      "outputs": []
    },
    {
      "cell_type": "markdown",
      "metadata": {
        "id": "xUf2-AaRN7L6"
      },
      "source": [
        "### 4.3.2. Categorical Attibutes"
      ]
    },
    {
      "cell_type": "code",
      "metadata": {
        "id": "UFr4sxFgN7L7"
      },
      "source": [
        "#Only categorical data\n",
        "a=df4.select_dtypes(include='object')\n",
        "\n",
        "#Calculante cramer V \n",
        "a1 = cramer_v(a['state_holiday'], a['state_holiday'])\n",
        "a2 = cramer_v(a['state_holiday'], a['store_type'])\n",
        "a3 = cramer_v(a['state_holiday'], a['assortment'])\n",
        "\n",
        "a4 = cramer_v(a['store_type'], a['state_holiday'])\n",
        "a5 = cramer_v(a['store_type'], a['store_type'])\n",
        "a6 = cramer_v(a['store_type'], a['assortment'])\n",
        "\n",
        "a7 = cramer_v(a['assortment'], a['state_holiday'])\n",
        "a8 = cramer_v(a['assortment'], a['store_type'])\n",
        "a9 = cramer_v(a['assortment'], a['assortment'])\n",
        "\n",
        "#Final dataset\n",
        "d = pd.DataFrame({'state_holiday':[a1,a2,a3],\n",
        "              'store_type':[a4,a5,a6],\n",
        "              'assortment':[a7,a8,a9], })\n",
        "d = d.set_index(d.columns)\n",
        "plt.figure( figsize=(20, 5))\n",
        "sns.heatmap(d, annot=True);      "
      ],
      "execution_count": null,
      "outputs": []
    },
    {
      "cell_type": "markdown",
      "metadata": {
        "id": "00tsMD4hN7L7"
      },
      "source": [
        "# 5.0. Data Preparation"
      ]
    },
    {
      "cell_type": "code",
      "metadata": {
        "id": "dCtXj5Z6N7L7"
      },
      "source": [
        "df5= df4.copy()"
      ],
      "execution_count": null,
      "outputs": []
    },
    {
      "cell_type": "markdown",
      "metadata": {
        "id": "D-hv7rU5N7L8"
      },
      "source": [
        "## 5.1. Normalização"
      ]
    },
    {
      "cell_type": "markdown",
      "metadata": {
        "id": "USvReGtFN7L8"
      },
      "source": [
        "## 5.2. Rescaling"
      ]
    },
    {
      "cell_type": "code",
      "metadata": {
        "id": "bHDfQ9jBN7L9"
      },
      "source": [
        "a= df5.select_dtypes(include=['int64','float64'])"
      ],
      "execution_count": null,
      "outputs": []
    },
    {
      "cell_type": "code",
      "metadata": {
        "id": "t5288Wt7N7L9"
      },
      "source": [
        "rs = RobustScaler()\n",
        "mms = MinMaxScaler()\n",
        "\n",
        "#competition distance \n",
        "df5['competition_distance']= rs.fit_transform(df5[['competition_distance']].values)\n",
        "\n",
        "#competition time month\n",
        "df5['competition_time_month']= rs.fit_transform(df5[['competition_time_month']].values)\n",
        "\n",
        "#year\n",
        "df5['year']= mms.fit_transform(df5[['year']].values)\n",
        "\n",
        "#promo time week\n",
        "df5['promo_time_week']= mms.fit_transform(df5[['promo_time_week']].values)"
      ],
      "execution_count": null,
      "outputs": []
    },
    {
      "cell_type": "markdown",
      "metadata": {
        "id": "9gbt8Q9xN7L9"
      },
      "source": [
        "## 5.3. Transformação\r\n",
        "\r\n",
        "\r\n",
        "\r\n"
      ]
    },
    {
      "cell_type": "markdown",
      "metadata": {
        "id": "aIrZ3UGCN7L-"
      },
      "source": [
        "## 5.3.1. Encoding"
      ]
    },
    {
      "cell_type": "code",
      "metadata": {
        "id": "Zs2U1-_6N7L_"
      },
      "source": [
        "# state_holiday - One Hot Encoding\n",
        "df5= pd.get_dummies(df5, prefix =['state_holiday'], columns=['state_holiday'])\n",
        "\n",
        "# store_type  - Label Enconding\n",
        "le = LabelEncoder()\n",
        "df5['store_type'] = le.fit_transform(df5['store_type'])\n",
        "\n",
        "# assortment - Ordinal Encoding   - Transformou a variavél object em int  \n",
        "assortment_dict = {'basic': 1, 'extra': 2, 'extended': 3}\n",
        "df5['assortment'] = df5['assortment'].map(assortment_dict)"
      ],
      "execution_count": null,
      "outputs": []
    },
    {
      "cell_type": "code",
      "metadata": {
        "id": "dm_78Pd7crfp"
      },
      "source": [
        "df5.head()\r\n"
      ],
      "execution_count": null,
      "outputs": []
    },
    {
      "cell_type": "markdown",
      "metadata": {
        "id": "pMbQ2uHoN7MA"
      },
      "source": [
        "## 5.3.2. Response Variable Transformation"
      ]
    },
    {
      "cell_type": "code",
      "metadata": {
        "id": "vl-8kBfoN7MB"
      },
      "source": [
        "df5['sales'] = np.log1p(df5['sales'])"
      ],
      "execution_count": null,
      "outputs": []
    },
    {
      "cell_type": "code",
      "metadata": {
        "id": "kSGbX4_fN7MB"
      },
      "source": [
        "sns.distplot(df5['sales']);"
      ],
      "execution_count": null,
      "outputs": []
    },
    {
      "cell_type": "markdown",
      "metadata": {
        "id": "cx_lsh-HN7MC"
      },
      "source": [
        "## 5.3.3. Nature Transformation\r\n",
        "\r\n",
        "\r\n",
        "\r\n"
      ]
    },
    {
      "cell_type": "code",
      "metadata": {
        "id": "1F94z4U4N7MD"
      },
      "source": [
        "#day_of_week\n",
        "df5['day_of_week_sin']= df5['day_of_week'].apply(lambda x: np.sin(x * (2. * np.pi/7) ) )\n",
        "df5['day_of_week_cos']= df5['day_of_week'].apply(lambda x: np.cos(x * (2. * np.pi/7) ) )\n",
        "\n",
        "#month\n",
        "df5['month_sin']= df5['month'].apply(lambda x: np.sin(x * (2. * np.pi/12) ) )\n",
        "df5['month_cos']= df5['month'].apply(lambda x: np.cos(x * (2. * np.pi/12) ) )\n",
        "\n",
        "#week_of_year\n",
        "df5['week_of_year_sin']= df5['week_of_year'].apply(lambda x: np.sin(x * (2. * np.pi/52) ) )\n",
        "df5['week_of_year_cos']= df5['week_of_year'].apply(lambda x: np.cos(x * (2. * np.pi/52) ) )\n",
        "\n",
        "#day\n",
        "df5['day_sin']= df5['day'].apply(lambda x: np.sin(x * (2. * np.pi/30) ) )\n",
        "df5['day_cos']= df5['day'].apply(lambda x: np.cos(x * (2. * np.pi/30) ) )\n",
        "\n"
      ],
      "execution_count": null,
      "outputs": []
    },
    {
      "cell_type": "code",
      "metadata": {
        "id": "SKIEWddVN7ME"
      },
      "source": [
        "df5.head()"
      ],
      "execution_count": null,
      "outputs": []
    },
    {
      "cell_type": "markdown",
      "metadata": {
        "id": "up_VCbDu5fqT"
      },
      "source": [
        "#6.0. Feature Selection"
      ]
    },
    {
      "cell_type": "code",
      "metadata": {
        "id": "eb19S7Cf5tUy"
      },
      "source": [
        "df6=df5.copy()"
      ],
      "execution_count": null,
      "outputs": []
    },
    {
      "cell_type": "markdown",
      "metadata": {
        "id": "RmygMHLyZ05q"
      },
      "source": [
        "##6.1. Split dataframe into training and test dataset\r\n"
      ]
    },
    {
      "cell_type": "code",
      "metadata": {
        "id": "FgVMNxj2aCZI"
      },
      "source": [
        "df6.head()"
      ],
      "execution_count": null,
      "outputs": []
    },
    {
      "cell_type": "markdown",
      "metadata": {
        "id": "VlsBbBNcbYG7"
      },
      "source": [
        ""
      ]
    },
    {
      "cell_type": "markdown",
      "metadata": {
        "id": "WPVxjEU6akbH"
      },
      "source": [
        "##6.2. Boruta as Feature Selector"
      ]
    },
    {
      "cell_type": "code",
      "metadata": {
        "id": "U9xGXVWcav13"
      },
      "source": [
        "cols_drop = ['week_of_year', 'day', 'month', 'day_of_week', 'promo_since', 'competition_since', 'year_week']\r\n",
        "df6 = df6.drop(cols_drop, axis=1)"
      ],
      "execution_count": null,
      "outputs": []
    },
    {
      "cell_type": "code",
      "metadata": {
        "id": "8oLbal-Jj5yS"
      },
      "source": [
        "df6[['store','date']].groupby('store').max().reset_index()['date'] [0] - timedelta(days=6*7)\r\n",
        "\r\n"
      ],
      "execution_count": null,
      "outputs": []
    },
    {
      "cell_type": "code",
      "metadata": {
        "id": "zpz5ZR-tqBE_"
      },
      "source": [
        "#Training dataset\r\n",
        "X_train = df6[df6['date'] < '2015-06-19']\r\n",
        "y_train = X_train['sales']\r\n",
        "\r\n",
        "#Test dataset\r\n",
        "X_test = df6[df6['date']>= '2015-06-19']\r\n",
        "y_test = X_test['sales']\r\n",
        "\r\n",
        "print('Training Min Date: {}'.format(X_train['date'].min() ))\r\n",
        "print('Training Max Date: {}'.format(X_train['date'].max() ))\r\n",
        "\r\n",
        "print('\\nText Min Date: {}'.format(X_test['date'].min() ))\r\n",
        "print('Text Max Date: {}'.format(X_test['date'].max() ))\r\n"
      ],
      "execution_count": null,
      "outputs": []
    },
    {
      "cell_type": "code",
      "metadata": {
        "id": "WIfHoCTMLBNi"
      },
      "source": [
        "#training and test dataset boruta \r\n",
        "X_train_n = X_train.drop(['date', 'sales'], axis=1).values \r\n",
        "y_train_n = y_train.values.ravel()\r\n",
        "\r\n",
        "\r\n",
        "#define RangdomForestRegressor\r\n",
        "#rf = RandomForestRegressor(n_jobs=-1)\r\n",
        "\r\n",
        "#define boruta\r\n",
        "#boruta = BorutaPy( rf, n_estimators='auto', verbose=2, random_state=42 ).fit(X_train_n, y_train_n)"
      ],
      "execution_count": null,
      "outputs": []
    },
    {
      "cell_type": "code",
      "metadata": {
        "id": "5CviGdmgOYpi"
      },
      "source": [
        "#cols_selected = boruta.support_.tolist()\r\n",
        "#best features\r\n",
        "#X_train_fs = X_train.drop(['date','sales'], axis=1)\r\n",
        "#cols_selected_boruta = X_train_fs.iloc[:, cols_selected ].columns.to_list()\r\n",
        "\r\n",
        "#not selected boruta\r\n",
        "#cols_not_selected_boruta = list(np.setdiff1d(X_train_fs.columns, cols_selected_boruta))"
      ],
      "execution_count": null,
      "outputs": []
    },
    {
      "cell_type": "code",
      "metadata": {
        "id": "wmSmtbG4ClL6"
      },
      "source": [
        "#cols_selected_boruta"
      ],
      "execution_count": null,
      "outputs": []
    },
    {
      "cell_type": "markdown",
      "metadata": {
        "id": "CVYMnAaxGt__"
      },
      "source": [
        "## 6.3. Manual Feature Selection"
      ]
    },
    {
      "cell_type": "code",
      "metadata": {
        "id": "er2Fo7lMFYcW"
      },
      "source": [
        "cols_selected_boruta = [\r\n",
        "  'store',\r\n",
        "  'promo',\r\n",
        "  'store_type',\r\n",
        "  'assortment',\r\n",
        "  'competition_distance',\r\n",
        "  'competition_open_since_month',\r\n",
        "  'competition_open_since_year',\r\n",
        "  'promo2',\r\n",
        "  'promo2_since_week',\r\n",
        "  'promo2_since_year',\r\n",
        "  'competition_time_month',\r\n",
        "  'promo_time_week',\r\n",
        "  'day_of_week_sin',\r\n",
        "  'day_of_week_cos',\r\n",
        "  'month_sin',\r\n",
        "  'month_cos',\r\n",
        "  'week_of_year_sin',\r\n",
        "  'week_of_year_cos',\r\n",
        "  'day_sin',\r\n",
        "  'day_cos']\r\n",
        "\r\n",
        "  #columns to add\r\n",
        "#feat_to_add = ['date','sales']\r\n",
        "\r\n",
        "  #final features \r\n",
        "#cols_selected_boruta.extend(feat_to_add)\r\n"
      ],
      "execution_count": 1,
      "outputs": []
    },
    {
      "cell_type": "code",
      "metadata": {
        "id": "x1PkT2vnVTQ8"
      },
      "source": [
        "cols_selected_boruta\r\n"
      ],
      "execution_count": null,
      "outputs": []
    },
    {
      "cell_type": "markdown",
      "metadata": {
        "id": "4lb1eBeRQU5h"
      },
      "source": [
        "# 7.0. Machine Learning Modelling"
      ]
    },
    {
      "cell_type": "code",
      "metadata": {
        "id": "ilnL3oIZRgjc"
      },
      "source": [
        "x_train = X_train[cols_selected_boruta]\r\n",
        "x_test = X_test[cols_selected_boruta]"
      ],
      "execution_count": 112,
      "outputs": []
    },
    {
      "cell_type": "markdown",
      "metadata": {
        "id": "0stck2KpQbRh"
      },
      "source": [
        "##7.1. Average Model "
      ]
    },
    {
      "cell_type": "code",
      "metadata": {
        "id": "oRi40g_IRG32"
      },
      "source": [
        "#from sklearn.metrics       import mean_absolute_error, mean_squared_error\r\n",
        "\r\n",
        "def mean_absolute_percentage_error(y,yhat):\r\n",
        "    return np.mean(np.abs((y-yhat)/y))\r\n",
        "\r\n",
        "def ml_error(model_name, y ,yhat):\r\n",
        "    mae = mean_absolute_error(y,yhat)\r\n",
        "    mape = mean_absolute_percentage_error(y,yhat)\r\n",
        "    rmse = np.sqrt(mean_squared_error(y,yhat))\r\n",
        "\r\n",
        "    return pd.DataFrame({'Model Name': model_name,\r\n",
        "                         'MAE': mae,\r\n",
        "                         'MAPE': mape,\r\n",
        "                         'RMSE': rmse}, index=[0])"
      ],
      "execution_count": 116,
      "outputs": []
    },
    {
      "cell_type": "code",
      "metadata": {
        "colab": {
          "base_uri": "https://localhost:8080/",
          "height": 80
        },
        "id": "It5oAdMPbidt",
        "outputId": "1e7a7257-0f7a-4b70-b16d-ad43bcd7302e"
      },
      "source": [
        "aux1 = x_test.copy()\r\n",
        "aux1['sales'] = y_test.copy()\r\n",
        "\r\n",
        "#prediction \r\n",
        "aux2 = aux1[['store','sales']].groupby('store').mean().reset_index().rename(columns={'sales': 'predictions'})\r\n",
        "aux1 = pd.merge( aux1,aux2, how='left', on='store')\r\n",
        "yhat_baseline = aux1['predictions']\r\n",
        "\r\n",
        "#performance \r\n",
        "baseline_result = ml_error ('Average Model', np.expm1(y_test), np.expm1(yhat_baseline))\r\n",
        "baseline_result"
      ],
      "execution_count": 117,
      "outputs": [
        {
          "output_type": "execute_result",
          "data": {
            "text/html": [
              "<div>\n",
              "<style scoped>\n",
              "    .dataframe tbody tr th:only-of-type {\n",
              "        vertical-align: middle;\n",
              "    }\n",
              "\n",
              "    .dataframe tbody tr th {\n",
              "        vertical-align: top;\n",
              "    }\n",
              "\n",
              "    .dataframe thead th {\n",
              "        text-align: right;\n",
              "    }\n",
              "</style>\n",
              "<table border=\"1\" class=\"dataframe\">\n",
              "  <thead>\n",
              "    <tr style=\"text-align: right;\">\n",
              "      <th></th>\n",
              "      <th>Model Name</th>\n",
              "      <th>MAE</th>\n",
              "      <th>MAPE</th>\n",
              "      <th>RMSE</th>\n",
              "    </tr>\n",
              "  </thead>\n",
              "  <tbody>\n",
              "    <tr>\n",
              "      <th>0</th>\n",
              "      <td>Average Model</td>\n",
              "      <td>1354.800353</td>\n",
              "      <td>0.455051</td>\n",
              "      <td>1835.135542</td>\n",
              "    </tr>\n",
              "  </tbody>\n",
              "</table>\n",
              "</div>"
            ],
            "text/plain": [
              "      Model Name          MAE      MAPE         RMSE\n",
              "0  Average Model  1354.800353  0.455051  1835.135542"
            ]
          },
          "metadata": {
            "tags": []
          },
          "execution_count": 117
        }
      ]
    },
    {
      "cell_type": "markdown",
      "metadata": {
        "id": "kaiGEt5vQzHn"
      },
      "source": [
        "##7.2. Linear Regression Model"
      ]
    },
    {
      "cell_type": "markdown",
      "metadata": {
        "id": "VenFW7fkQww8"
      },
      "source": [
        ""
      ]
    },
    {
      "cell_type": "markdown",
      "metadata": {
        "id": "BK492MTOQ9Fl"
      },
      "source": [
        "\r\n",
        "\r\n",
        "##7.3. Linear Regression Regularized Model"
      ]
    },
    {
      "cell_type": "markdown",
      "metadata": {
        "id": "KAPbtjGgQIdA"
      },
      "source": [
        ""
      ]
    }
  ]
}